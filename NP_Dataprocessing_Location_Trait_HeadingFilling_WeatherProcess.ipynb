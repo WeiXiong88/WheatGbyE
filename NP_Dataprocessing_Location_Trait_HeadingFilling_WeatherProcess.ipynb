{
 "cells": [
  {
   "cell_type": "markdown",
   "metadata": {
    "collapsed": true
   },
   "source": [
    "# This script is generating a complete location file and a complete trait file"
   ]
  },
  {
   "cell_type": "code",
   "execution_count": 10,
   "metadata": {},
   "outputs": [],
   "source": [
    "#Function Read weather\n",
    "#Weather()\n",
    "#Input: lat, lon, year, sowing, heading, flower, maturity, harvest\n",
    "import pandas as pd\n",
    "import numpy as np\n",
    "import datetime as dt\n",
    "import os"
   ]
  },
  {
   "cell_type": "code",
   "execution_count": 4,
   "metadata": {},
   "outputs": [],
   "source": [
    "#Nursery\n",
    "nursery=['ESWYT','IDYN','HTWYT','SAWYT','IWWYT_IRR','IWWYT_SA']\n",
    "nur_start=[1,12,1,1,3,7]\n",
    "nur_end=[40,51,18,27,20,19]\n",
    "xls=['.xls','.xls','.csv','.xls','.xlsx','.xlsx']\n",
    "delim=['\\t','\\t',',','\\t']\n",
    "#HTWYT only has one location file"
   ]
  },
  {
   "cell_type": "code",
   "execution_count": 5,
   "metadata": {},
   "outputs": [],
   "source": [
    "#file_name=\"E:\\\\Dropbox (RSG)\\\\Works\\\\CurrentProcessing\\\\Wheat_Phenotypic\\\\Weather\\\\MelArc\\\\\" #Metblue\n",
    "file_name=\"E:\\\\Dropbox (RSG)\\\\Works\\\\CurrentProcessing\\\\Wheat_Phenotypic\\\\Weather\\\\ARC5\\\\\" #ARC5\n",
    "output_dir=\"E:\\\\Dropbox (RSG)\\\\Works\\\\CurrentProcessing\\\\Wheat_Phenotypic\\\\1.0_Cross_Over\\\\1_Data\\\\\"\n",
    "#file_name=file_name+str(lat)+\"_\"+str(lon)+\".csv\"\n",
    "#df=pd.read_csv(file_name)\n",
    "def switch_mon(argument):\n",
    "    switcher = {\n",
    "        \"Jan\":1,\n",
    "        \"Feb\":2,\n",
    "        \"Mar\":3,\n",
    "        \"Apr\":4,\n",
    "        \"May\":5,\n",
    "        \"Jun\":6,\n",
    "        \"Jul\":7,\n",
    "        \"Aug\":8,\n",
    "        \"Sep\":9,\n",
    "        \"Oct\":10,\n",
    "        \"Nov\":11,\n",
    "        \"Dec\":12\n",
    "    }\n",
    "    return switcher.get(argument)"
   ]
  },
  {
   "cell_type": "markdown",
   "metadata": {},
   "source": [
    "# Dealing with Locations"
   ]
  },
  {
   "cell_type": "code",
   "execution_count": 44,
   "metadata": {},
   "outputs": [
    {
     "data": {
      "text/plain": [
       "'E:\\\\Dropbox (RSG)\\\\Works\\\\CurrentProcessing\\\\Wheat_Phenotypic\\\\Data\\\\IWWYT_IRR\\\\9IWWYT_IRR_EnvData.xlsx'"
      ]
     },
     "execution_count": 44,
     "metadata": {},
     "output_type": "execute_result"
    }
   ],
   "source": [
    "#dt.datetime.strptime(\"1981-1-1\",'%Y-%m-%d')\n",
    "env"
   ]
  },
  {
   "cell_type": "code",
   "execution_count": 42,
   "metadata": {},
   "outputs": [],
   "source": [
    "#[dt.datetime.strptime(x,'%Y-%m-%d') if str(x)!='nan' else float('nan') for x in df1.sow]\n"
   ]
  },
  {
   "cell_type": "code",
   "execution_count": 45,
   "metadata": {},
   "outputs": [],
   "source": [
    "#Create a location file including sowing, harvesting, heading, anthesis, and maturity\n",
    "#Read location and environment file\n",
    "for n in range(6):\n",
    "    nurse=nursery[n]\n",
    "    df=pd.DataFrame(columns=['loc','country','lat','lon','alt','trail','year','yearofsow','dayofsow','dayofhar','head_mean','anth_mean','matu_mean'])\n",
    "    default_dir=\"E:\\\\Dropbox (RSG)\\\\Works\\\\CurrentProcessing\\\\Wheat_Phenotypic\\\\Data\\\\\"+nurse+\"\\\\\"\n",
    "    for yr in range(nur_start[n],(nur_end[n]+1)):\n",
    "        loc=default_dir+str(yr)+nurse+\"_Loc_data\"+xls[n]\n",
    "        if (n==2 and yr<17):loc=default_dir+str(1)+nurse+\"_Loc_data\"+xls[n] #HTWYT only has one loc file\n",
    "        env=default_dir+str(yr)+nurse+\"_EnvData\"+xls[n]\n",
    "        #Location file\n",
    "        if os.path.isfile(loc):\n",
    "            if n<4:\n",
    "                df1=pd.read_table(loc,delim[n],encoding = \"ISO-8859-1\") #Location file\n",
    "            else:\n",
    "                df1=pd.read_excel(loc)\n",
    "            #Compute latitude and longitude\n",
    "            df1['lat']=[-1 if x == 'S' else 1 for x in df1['Latitud']]*round(df1['Lat_degress']+df1['Lat_minutes']/60,2)\n",
    "            df1['lon']=[-1 if x == 'W' else 1 for x in df1['Longitude']]*round(df1['Long_degress']+df1['Long_minutes']/60,2)\n",
    "            #Subset Location file\n",
    "            df1=df1[['Loc_no','Country','lat','lon','Altitude']]\n",
    "            df1.columns=['loc','country','lat','lon','alt']\n",
    "            df1=df1.drop_duplicates(keep='first') #remove duplicated rows\n",
    "            #Here we need to judge if there are lines in environment file, otherwise, create empty sowing and harvest columns\n",
    "            #Identify year through environment file\n",
    "            #Need to check if environment file exit.\n",
    "            if os.path.isfile(env):\n",
    "                if n<4:\n",
    "                    df2=pd.read_table(env,delim[n],encoding = \"ISO-8859-1\") #Environment file\n",
    "                else:\n",
    "                    df2=pd.read_excel(env)\n",
    "                #Estimate Sow date in environment file: Trait No==3, Trait Name == SOWING_DATE\n",
    "                #df2['year']=[1900+100*int((100-int(str(x)[:2]))/80)+int(str(x)[:2]) for x in df2['Cycle']]\n",
    "                df2_temp=df2[df2['Trait No']==3][['Loc_no','Country','Value']] #Trait No 3 is sowing\n",
    "                if df2_temp.shape[0]>0:\n",
    "                    df2_temp=df2_temp.dropna()\n",
    "                    df2_temp['sow']=[x.split()[2]+'-'+str(switch_mon(x.split()[0]))+'-'+x.split()[1] for x in df2_temp['Value']]\n",
    "                    df2_temp=df2_temp[['Loc_no','sow']]\n",
    "                    df2_temp.columns=['loc','sow']\n",
    "                    df1=df1.merge(df2_temp,left_on='loc',right_on='loc',how='left')\n",
    "                else:\n",
    "                    df1['sow']='nan'\n",
    "                #else:\n",
    "                #    df1['sow']='nan'\n",
    "                #Estimate Harvest date in environment file: Trait No==9, Trait Name==HARVEST_FINISHING_DATE\n",
    "                df2_temp=df2[(df2['Trait No']==8)|(df2['Trait No']==9)][['Loc_no','Trait name','Value']]\n",
    "                df2_temp=df2_temp.pivot_table(index=['Loc_no'],columns=['Trait name'],values=['Value'],aggfunc='first',fill_value='nan').reset_index()\n",
    "                if df2_temp.shape[0]>0:\n",
    "                    df2_temp.columns=['loc']+['har_'+str(x+1) for x in range(df2_temp.shape[1]-1)]\n",
    "                    if df2_temp.shape[1]==2:\n",
    "                        df2_temp['har']=df2_temp['har_1']\n",
    "                        df2_temp.drop(['har_1'],axis=1,inplace=True,errors='ignore')\n",
    "                    if df2_temp.shape[1]==3:\n",
    "                        df2_temp['har']=[df2_temp.loc[x,'har_1'] if df2_temp.loc[x,'har_1']!='nan' else df2_temp.loc[x,'har_2'] for x in range(df2_temp.shape[0])]\n",
    "                        df2_temp.drop(['har_1','har_2'],axis=1,inplace=True,errors='ignore')\n",
    "                    df2_temp['har']=[x.split()[2]+'-'+str(switch_mon(x.split()[0]))+'-'+x.split()[1] if x!='nan' else 'nan' for x in df2_temp['har']]\n",
    "                    df1=df1.merge(df2_temp,left_on=['loc'],right_on=['loc'],how='left')\n",
    "                else:\n",
    "                    df1['har']='nan'\n",
    "            #else:\n",
    "            #    df1[['sow','har']]='nan'\n",
    "            #Find heading, flowering and maturity date from MeanVal\n",
    "            #Heading date: 148, Flower: 149, Maturity: 150\n",
    "            meanval=default_dir+str(yr)+nurse+\"_MeanVal\"+xls[n]\n",
    "            if os.path.isfile(meanval):\n",
    "                if n<4:\n",
    "                    df2=pd.read_table(meanval,delim[n],encoding = \"ISO-8859-1\") #MeanVal file\n",
    "                else:\n",
    "                    df2=pd.read_excel(meanval)\n",
    "                year=str(df2.loc[0,'Cycle'])\n",
    "                year=1900+100*int((100-int(year[:2]))/80)+int(year[:2]) if year.find('-')>0 else int(float(year))\n",
    "                #trail_name=df2.loc[0,'Trial name']\n",
    "                #df2['year']=['19'+x[:2] if len(x)>4 else x[:4] for x in df2['Cycle']]\n",
    "                df2=df2[(df2['Trait_no']>=148)&(df2['Trait_no']<=150)][['Occ','Loc_no','Trait_no','Trait name','Value']]\n",
    "                df2['Value']=pd.to_numeric(df2['Value'],errors='coerce')\n",
    "                #Compuate the mean day of heading, flowering and maturity for each site\n",
    "                #merge heading, anthesis, maturity day into location file\n",
    "                trait_no=[148,149,150]\n",
    "                trait_name=['head_mean','anth_mean','matu_mean']\n",
    "                for i in range(len(trait_no)):\n",
    "                    df2_temp=df2[df2['Trait_no']==trait_no[i]][['Loc_no','Value']]\n",
    "                    if df2_temp.shape[0]>0:\n",
    "                        df2_temp=df2_temp.groupby(['Loc_no']).mean().round(0).reset_index()\n",
    "                        df2_temp.columns=['loc',trait_name[i]]\n",
    "                        df1=df1.merge(df2_temp,how='left')\n",
    "                    #else:\n",
    "                    #    df1[trait_name[i]]='nan'\n",
    "            df1['year']=year\n",
    "            df1['trail']=str(yr)+nurse\n",
    "            df1['yearofsow']=[x.split('-')[0] if str(x)!='nan' else float('nan') for x in df1['sow']]\n",
    "            df1['dayofsow']=[(dt.datetime(int(x.split('-')[0]),int(x.split('-')[1]),int(x.split('-')[2]))-dt.datetime(int(x.split('-')[0]),1,1)).days if str(x)!='nan' else float('nan') for x in df1.sow]\n",
    "            df1['dayofhar']=(df1['har'].astype('datetime64[ns]')-df1['sow'].astype('datetime64[ns]')).dt.days\n",
    "            df1.drop(columns=['sow','har'],inplace=True)\n",
    "            df=df.append(df1,ignore_index=True,sort=False)\n",
    "    df.drop_duplicates(keep='first',inplace=True)\n",
    "    df.to_csv(output_dir+nurse+'_loc.csv',index=False)"
   ]
  },
  {
   "cell_type": "markdown",
   "metadata": {},
   "source": [
    "# Dealing with Yield and other traits"
   ]
  },
  {
   "cell_type": "code",
   "execution_count": 234,
   "metadata": {},
   "outputs": [],
   "source": [
    "from scipy import stats\n",
    "%matplotlib inline\n",
    "import matplotlib.pyplot as plt\n",
    "from scipy import optimize"
   ]
  },
  {
   "cell_type": "code",
   "execution_count": 235,
   "metadata": {},
   "outputs": [],
   "source": [
    "#Generating yield table\n",
    "for n in range(6):\n",
    "    nurse=nursery[n]\n",
    "    df=pd.DataFrame(columns=['occ','loc','year','sid','gen','yld'])\n",
    "    for yr in range(nur_start[n],(nur_end[n]+1)):\n",
    "        default_dir=\"E:\\\\Dropbox (RSG)\\\\Works\\\\CurrentProcessing\\\\Wheat_Phenotypic\\\\Data\\\\\"+nurse+\"\\\\\"\n",
    "        yld=default_dir+str(yr)+nurse+\"_GrnYld\"+xls[n]\n",
    "        if os.path.isfile(yld):\n",
    "            if n<4:\n",
    "                df1=pd.read_table(yld,delim[n],encoding = \"ISO-8859-1\") #Location file\n",
    "            else:\n",
    "                df1=pd.read_excel(yld)\n",
    "            df1['year']=[1900+100*int((100-int(str(x)[:2]))/80)+int(str(x)[:2]) if len(str(x))>4 else int(x) for x in df1['Cycle']]\n",
    "            df1=df1[['Occ','Loc_no','year','Sid','Gen_name','Value']]\n",
    "            df1.columns=['occ','loc','year','sid','gen','yld']\n",
    "            df=df.append(df1,ignore_index=True,sort=False)\n",
    "    df.to_csv(output_dir+nurse+'_yld.csv',index=False)"
   ]
  },
  {
   "cell_type": "code",
   "execution_count": 46,
   "metadata": {},
   "outputs": [],
   "source": [
    "#Generating a table including yield, phenology and location information\n",
    "df1=[]\n",
    "df2=[]\n",
    "trait_no=[148,149,150]\n",
    "trait_name=['head','anth','matu']\n",
    "for n in range(4,6):\n",
    "    nurse=nursery[n]\n",
    "    df=pd.DataFrame(columns=['occ','loc','year','country','lat','lon','alt','trail','sid','gen','yld','yearofsow','dayofsow','head','anth','matu','dayofhar','head_mean','anth_mean','matu_mean'])\n",
    "    default_dir=\"E:\\\\Dropbox (RSG)\\\\Works\\\\CurrentProcessing\\\\Wheat_Phenotypic\\\\Data\\\\\"+nurse+\"\\\\\"\n",
    "    for yr in range(nur_start[n],(nur_end[n]+1)):\n",
    "        yld=default_dir+str(yr)+nurse+\"_GrnYld\"+xls[n]\n",
    "        mea=default_dir+str(yr)+nurse+\"_MeanVal\"+xls[n]\n",
    "        if os.path.isfile(yld):\n",
    "            if n<4:\n",
    "                df1=pd.read_table(yld,delim[n],encoding = \"ISO-8859-1\") #Location file\n",
    "                df2=pd.read_table(mea,delim[n],encoding = \"ISO-8859-1\") #Other traits\n",
    "            else:\n",
    "                df1=pd.read_excel(yld)\n",
    "                df2=pd.read_excel(mea)\n",
    "            df1['year']=[1900+100*int((100-int(str(x)[:2]))/80)+int(str(x)[:2]) if len(str(x))>4 else int(x) for x in df1['Cycle']]\n",
    "            df1=df1[['Occ','Loc_no','year','Sid','Gen_name','Value']]\n",
    "            df1.columns=['occ','loc','year','sid','gen','yld']\n",
    "            df2['year']=[1900+100*int((100-int(str(x)[:2]))/80)+int(str(x)[:2]) if len(str(x))>4 else int(x) for x in df2['Cycle']]\n",
    "            #Heading,anthesis,maturity\n",
    "            for t in range(len(trait_no)):\n",
    "                df3=df2[df2['Trait_no']==trait_no[t]][['Occ','Loc_no','year','Sid','Gen_name','Value']] \n",
    "                df3.columns=['occ','loc','year','sid','gen',trait_name[t]]\n",
    "                df3['occ']=df3['occ'].astype('float')\n",
    "                df1=df1.merge(df3,how='left',on=['occ','loc','year','sid','gen'])\n",
    "            #Location file contain sowing and harvesting date\n",
    "            df2=pd.read_csv(output_dir+nurse+'_loc.csv')\n",
    "            #dayofyear,dayofsow,dayofhar\n",
    "            df3=df2[['loc', 'year','country','lat','lon','alt','trail','yearofsow', 'dayofsow', 'dayofhar','head_mean','anth_mean','matu_mean']]\n",
    "            df1=df1.merge(df3,how='left',on=['loc','year'])\n",
    "            df=df.append(df1,ignore_index=True,sort=False)\n",
    "        df.to_csv(output_dir+nurse+'_yld_phe_loc.csv',index=False)"
   ]
  },
  {
   "cell_type": "markdown",
   "metadata": {},
   "source": [
    "# ##################Modeling missing heading date#####################\n",
    "###################################################################"
   ]
  },
  {
   "cell_type": "code",
   "execution_count": 47,
   "metadata": {},
   "outputs": [],
   "source": [
    "import os\n",
    "import glob\n",
    "from datetime import timedelta\n",
    "import matplotlib.pyplot as plt\n",
    "import datetime\n",
    "from datetime import timedelta\n",
    "from scipy.stats import pearsonr\n",
    "import statsmodels.api as sm\n",
    "import seaborn as sns\n",
    "%matplotlib inline"
   ]
  },
  {
   "cell_type": "code",
   "execution_count": 49,
   "metadata": {},
   "outputs": [],
   "source": [
    "#Windows\n",
    "base_dir=\"E:\\\\Dropbox (RSG)\\\\Works\\\\CurrentProcessing\\\\Wheat_Phenotypic\\\\1.0_Cross_Over\\\\\"\n",
    "in_dir=\"E:\\\\Dropbox (RSG)\\\\Works\\\\CurrentProcessing\\\\Wheat_Phenotypic\\\\1.0_Cross_Over\\\\2_Results\\\\NP_data\\\\\"\n",
    "data_out=in_dir+\"phenologymodeling\\\\\"#\"E:\\\\Dropbox (RSG)\\\\Works\\\\CurrentProcessing\\\\Wheat_Phenotypic\\\\1.0_Cross_Over\\\\2_Results\\\\NP_data\\\\\"\n",
    "plot_out=\"E:\\\\Dropbox (RSG)\\\\Works\\\\CurrentProcessing\\\\Wheat_Phenotypic\\\\1.0_Cross_Over\\\\6_Figures\\\\NP_Plots\\\\\"\n",
    "weat_dir=\"E:\\\\Dropbox (RSG)\\\\Works\\\\CurrentProcessing\\\\Wheat_Phenotypic\\\\Weather\\\\MelArc\\\\\"\n",
    "#weat_dir=\"E:\\\\Dropbox (RSG)\\\\Works\\\\CurrentProcessing\\\\Wheat_Phenotypic\\\\Weather\\\\ARC5\\\\\"\n",
    "#Mac:\n",
    "#in_dir=\"/Users/weixiong/Dropbox (RSG)/Works/CurrentProcessing/Wheat_Phenotypic/1_Cross_Over/1_Data/\"\n",
    "#out_dir=\"/Users/weixiong/Dropbox (RSG)/Works/CurrentProcessing/Wheat_Phenotypic/1_Cross_Over/6_Figures/NCC_Dataprocessing/\"\n",
    "#weat_dir=\"/Users/weixiong/Dropbox (RSG)/Works/CurrentProcessing/Wheat_Phenotypic/Weather/Output/\"\n",
    "#os.chdir(out_dir)\n",
    "nursery=['ESWYT','IDYN','HTWYT','SAWYT','IWWYT_IRR','IWWYT_SA']\n",
    "wea=['MelArc','ARC5']"
   ]
  },
  {
   "cell_type": "code",
   "execution_count": null,
   "metadata": {},
   "outputs": [],
   "source": [
    "# Step 0: Clear the data, generating table for the CROP MODEL phenology perdiction"
   ]
  },
  {
   "cell_type": "code",
   "execution_count": 50,
   "metadata": {},
   "outputs": [],
   "source": [
    "out=pd.DataFrame(columns=['nursery','year','E!','lat','lon','yearofsow','dayofsow','head','anth','matu','dayofhar'])\n",
    "for n in nursery[4:]: #'HTWYT'\n",
    "    df=pd.read_csv(output_dir+n+'_yld_phe_loc.csv',low_memory=False)\n",
    "    df.loc[:,'E!']=df['occ'].astype('str')+'_'+df['loc'].astype('str')\n",
    "    df.loc[:,'G!']=df['sid'].astype('str')+'_'+df['gen']\n",
    "    df=df[['E!','G!','year','lat','lon','yld','yearofsow','dayofsow','head','anth','matu','dayofhar']]\n",
    "    df=df[df.lat.notnull()&df.lon.notnull()]\n",
    "    df=df[df['yearofsow']>1979].reset_index().drop(['index'],axis=1) #New weather from 1980\n",
    "    df.drop_duplicates(keep='first',inplace=True)\n",
    "    for col in df.columns[2:]: \n",
    "        df[col]=df[col].replace(r'\\s+',np.nan,regex=True)\n",
    "        df[col]=df[col].astype('float')\n",
    "    E_mean=df.groupby(['E!','year']).median().reset_index()\n",
    "    E_sd=df.groupby(['E!','year']).std().reset_index()\n",
    "    E_mean['head_sd']=E_sd['head']\n",
    "    E_mean['head_mean']=E_mean['head']\n",
    "    remove=E_mean[(E_mean['head']>E_mean['matu']) | (E_mean['head']>E_mean['dayofhar'])].index.tolist()\n",
    "    E_mean=E_mean.drop(E_mean.index[remove])\n",
    "    E_mean=E_mean.pivot_table(index=['year','E!','lat','lon'],values=['yearofsow','dayofsow','head','anth','matu','dayofhar']).reset_index()\n",
    "    E_mean['nursery']=n\n",
    "    out=out.append(E_mean,sort=False)\n",
    "out.to_csv(data_out+\"Model_Phenology.csv\",index=False)"
   ]
  },
  {
   "cell_type": "code",
   "execution_count": null,
   "metadata": {},
   "outputs": [],
   "source": []
  },
  {
   "cell_type": "code",
   "execution_count": 63,
   "metadata": {},
   "outputs": [
    {
     "name": "stderr",
     "output_type": "stream",
     "text": [
      "D:\\ProgramData\\Anaconda3\\lib\\site-packages\\ipykernel_launcher.py:9: SettingWithCopyWarning: \n",
      "A value is trying to be set on a copy of a slice from a DataFrame.\n",
      "Try using .loc[row_indexer,col_indexer] = value instead\n",
      "\n",
      "See the caveats in the documentation: http://pandas.pydata.org/pandas-docs/stable/indexing.html#indexing-view-versus-copy\n",
      "  if __name__ == '__main__':\n"
     ]
    }
   ],
   "source": [
    "#Find dssat soil to facilitate its simulation\n",
    "soil=pd.read_csv(\"E:/Dropbox (RSG)/Works/CurrentProcessing/Wheat_Phenotypic/2_DegreeDay/1_Data/DSSATgridSoil_10km.txt\",\n",
    "        sep=\",\")\n",
    "sol=[]\n",
    "for i in out.index:\n",
    "    lat=out.lat[i]\n",
    "    lon=out.lon[i]\n",
    "    soil_t=soil[(abs(soil['X']-lon)<1) & (abs(soil['Y']-lat)<1)]\n",
    "    soil_t['dis']=((soil['X']-lon)**2+(soil['Y']-lat)**2)**(1/2)\n",
    "    sol=sol+[soil_t.sort_values(by='dis').reset_index().iloc[0,1]]\n",
    "out['SOL']=sol\n",
    "out=out.reset_index()\n",
    "out['ARC5weat']=[cloest_wea(out.lat[i],out.lon[i]) for i in range(out.shape[0])]\n",
    "out.to_csv(data_out+\"Model_Phenology_sol.csv\",index=False)"
   ]
  },
  {
   "cell_type": "code",
   "execution_count": 36,
   "metadata": {},
   "outputs": [],
   "source": [
    "#Create calibration and validation files\n",
    "new=out[['nursery','year']].drop_duplicates().reset_index()\n",
    "new['caligeno']=range(new.shape[0])\n",
    "new=new.drop(columns='index')\n",
    "out=out.merge(new,on=['nursery','year'],how='left')\n",
    "out.to_csv(data_out+\"Model_Phenology_sol.csv\",index=False)"
   ]
  },
  {
   "cell_type": "code",
   "execution_count": 139,
   "metadata": {
    "collapsed": true
   },
   "outputs": [],
   "source": [
    "#Generate the sol file for all nursery sites\n",
    "sol_dir=\"F:/Stuff_in_IIASA/DSSATglobalSoil/SoilGrids-for-DSSAT-10km v1.0 (by country)/\"\n",
    "#output file name\n",
    "nurserysoil=out_dir+\"all_nursery_soil_type1.txt\"\n",
    "#read all soil types\n",
    "sol=pd.read_csv(out_dir+'Nurserysoil.csv')\n",
    "sol['country']=[sol.iloc[i,1][:2] for i in range(sol.shape[0])]\n",
    "soil_output=open(nurserysoil,'a')\n",
    "for country in sol['country'].unique():\n",
    "    soil_input=sol_dir+country+\".SOL\"\n",
    "    soil_type=sol[sol['country']==country]['SOIL'].tolist()\n",
    "    with open(soil_input) as f:\n",
    "        i=15\n",
    "        for line in f:\n",
    "            if line[1:11] in soil_type:\n",
    "                i=1\n",
    "            i=i+1\n",
    "            if i<15: soil_output.write(line)\n",
    "    #soil_input.close()\n",
    "soil_output.close()\n",
    "out['weat']=[cloest_wea(out.iloc[i,3],out.iloc[i,4]) for i in range(out.shape[0])]\n",
    "out.to_csv(data_out+\"Model_Phenology_sol.csv\",index=False)"
   ]
  },
  {
   "cell_type": "code",
   "execution_count": 142,
   "metadata": {
    "collapsed": true
   },
   "outputs": [],
   "source": [
    "#Plot _S  Predict heading  - calibration and validation\n",
    "out=pd.read_csv(\"Model_Phenology_sol.csv\")[['nursery','year','E!','head','anth','matu']]\n",
    "df=pd.read_csv(\"IWIN_CalibratedRows_HeadAnth.csv\")[['nursery','year','E!','phen']]\n",
    "df=df[df['phen']=='head']\n",
    "df['year']=df['year'].astype('float')\n",
    "out=out.merge(df,how='left')\n",
    "df=pd.read_csv(\"IWIN_SimulationOutput_OnlyHeading_1.csv\")[['nursery','year','E!','sim_head','sim_anth','sim_matu']]\n",
    "df['year']=df['year'].astype('float')\n",
    "df=df[df['sim_head']>0]\n",
    "out=out.merge(df,how='left')"
   ]
  },
  {
   "cell_type": "code",
   "execution_count": null,
   "metadata": {
    "collapsed": true
   },
   "outputs": [],
   "source": [
    "fig,axs=plt.subplots(nrows=1,ncols=1,figsize=(6,5.8))\n",
    "df=out[out['phen']=='head'][['head','sim_head']].dropna()\n",
    "axs.scatter(df['head'],df['sim_head'],s=10,marker='o',c='b',alpha=0.5,label='Calibration')\n",
    "df=out[out['phen']!='head'][['head','sim_head']].dropna()\n",
    "axs.scatter(df['head'],df['sim_head'],s=10,marker='o',c='r',alpha=0.5,label='Validation')\n",
    "df=out[['head','sim_head']].dropna()\n",
    "sns.regplot(df['head'],df['sim_head'],ax=axs,ci=0,scatter=False,line_kws={\"c\":\"black\",\"lw\":1})\n",
    "axs.set_xlim([27,220])\n",
    "axs.set_ylim([27,220])\n",
    "axs.set_xlabel(\"Reported heading\",fontsize=12)\n",
    "axs.set_ylabel(\"Simulated heading\",fontsize=12)\n",
    "axs.legend(loc='lower right',fontsize=12)\n",
    "corr,_=pearsonr(df['head'],df['sim_head'])\n",
    "r2=round(corr**2,3)\n",
    "axs.text(160,190,'R$\\mathregular{^{2}}$ = %0.3f' % r2)\n",
    "#fig.savefig(base_dir+\"6_Figures/NCC_Revision1_Suppl/S1_Heading_prediction.png\",dpi=300,bbox_inches = 'tight')"
   ]
  },
  {
   "cell_type": "markdown",
   "metadata": {},
   "source": [
    "# Clear the data, combined predicted mean heading for missing records"
   ]
  },
  {
   "cell_type": "code",
   "execution_count": 52,
   "metadata": {},
   "outputs": [],
   "source": [
    "#Find the climate for all sites\n",
    "def cloest_wea(lat,lon):\n",
    "    wea=[os.path.splitext(os.path.basename(x))[0] for x in glob.glob(weat_dir+\"*.csv\")]\n",
    "    wea=pd.DataFrame([x.split('_') for x in wea])\n",
    "    wea['la']=wea.iloc[:,0].astype('float')\n",
    "    wea['lo']=wea.iloc[:,1].astype('float')\n",
    "    wea['dis']=((wea['la']-lat)**2+(wea['lo']-lon)**2)**(1/2)\n",
    "    min_value=wea['dis'].min()\n",
    "    #min_index=np.argmin(wea['dis'])\n",
    "    min_index=wea['dis'].idxmin(axis=0,skipna=True)\n",
    "    if min_value<50:\n",
    "        return wea.iloc[min_index,0]+\"_\"+wea.iloc[min_index,1]\n",
    "    else:\n",
    "        return np.nan\n",
    "    \n",
    "def tavg(lat,lon,year,sow,har,v):\n",
    "    file=weat_dir+cloest_wea(lat,lon)+'.csv'\n",
    "    value=np.nan\n",
    "    if os.path.isfile(file)&(not np.isnan(sow))&(not np.isnan(har)):\n",
    "        df_we=pd.read_csv(file)\n",
    "        start=datetime.datetime.strptime(str(int(year))+'-01-01','%Y-%m-%d')+timedelta(int(sow))\n",
    "        end=start+timedelta(int(har))\n",
    "        start=int(start.strftime('%Y%m%d'))\n",
    "        end=int(end.strftime('%Y%m%d'))\n",
    "        df_we=df_we[(df_we['Date']>=start)&(df_we['Date']<=end)]\n",
    "        if (v=='tavg'): value=round((df_we['Tmax_degC'].mean()+df_we['Tmin_degC'].mean())/2,1)\n",
    "        if (v=='tmax'): value=round(df_we['Tmax_degC'].mean(),1)\n",
    "        if (v=='tmin'): value=round(df_we['Tmin_degC'].mean(),1)\n",
    "        if (v=='tdr'): value=abs(round(df_we['Tmax_degC'].mean()-df_we['Tmin_degC'].mean(),1))\n",
    "        if (v=='prep'): value=round(df_we['Prec_mm_day'].sum(),1)\n",
    "        if (v=='rhd'): value=round(df_we['RH_percentage'].mean(),1)\n",
    "        if (v=='vpd'): value=round(df_we['VPD_hPa'].mean(),1)\n",
    "        if (v=='wp2'): value=round(df_we['WS_ms'].mean(),1)\n",
    "    return value\n",
    "\n",
    "def gdd(lat,lon,year,sow,har):\n",
    "    file=weat_dir+cloest_wea(lat,lon)+'.csv'\n",
    "    value=np.nan\n",
    "    if os.path.isfile(file)&(not np.isnan(sow))&(not np.isnan(har)):\n",
    "        df_we=pd.read_csv(file)\n",
    "        start=datetime.datetime.strptime(str(int(year))+'-01-01','%Y-%m-%d')+timedelta(int(sow))\n",
    "        end=start+timedelta(int(har))\n",
    "        start=int(start.strftime('%Y%m%d'))\n",
    "        end=int(end.strftime('%Y%m%d'))\n",
    "        df_we=df_we[(df_we['Date']>=start)&(df_we['Date']<=end)]\n",
    "        tavg=round((df_we['Tmin_degC']+df_we['Tmax_degC'])/2,1)\n",
    "        tavg=[0 if x<0 else x if x<35 else 35 for x in tavg]\n",
    "        value=sum(tavg)\n",
    "    return value"
   ]
  },
  {
   "cell_type": "code",
   "execution_count": 401,
   "metadata": {},
   "outputs": [],
   "source": [
    "#Step 1: Clear the data, combined predicted mean heading for missing records\n",
    "#Combine modelling heading for all missing point.\n",
    "#Remove questionable entries\n",
    "#Remove sites where head>matu or head>dayofhar\n",
    "#sim_df=pd.read_csv(\"IWIN_SimulationOutput_1.csv\")[['nursery','year','E!','sim_head','sim_anth','sim_matu']]\n",
    "sim_df=pd.read_csv(in_dir+\"IWIN_SimulationOutput_HeadAnth.csv\")[['nursery','year','E!','sim_head','sim_anth','sim_matu']]\n",
    "for n in nursery[:4]: #'HTWYT'\n",
    "    df=pd.read_csv(output_dir+n+'_yld_phe_loc.csv',low_memory=False)\n",
    "    df.loc[:,'E!']=df['occ'].astype('str')+'_'+df['loc'].astype('str')\n",
    "    df.loc[:,'G!']=df['sid'].astype('str')+'_'+df['gen']\n",
    "    df=df[['E!','G!','year','lat','lon','yld','yearofsow','dayofsow','head','anth','matu','dayofhar','head_mean','anth_mean','matu_mean']]\n",
    "    df=df[df.lat.notnull()&df.lon.notnull()]\n",
    "    df=df[df['yearofsow']>1979].reset_index().drop(['index'],axis=1) #New weather from 1980\n",
    "    df.drop_duplicates(keep='first',inplace=True)\n",
    "    for col in df.columns[2:]: \n",
    "        df[col]=df[col].replace(r'\\s+',np.nan,regex=True)\n",
    "        df[col]=df[col].astype('float')\n",
    "    E_mean=df.groupby(['E!','year']).mean().reset_index()\n",
    "    #E_sd=df.groupby(['E!','year']).std().reset_index()\n",
    "    E_mean['head_sd']=E_sd['head']\n",
    "    E_mean['head_mean']=E_mean['head']\n",
    "    remove=E_mean[(E_mean['head']>E_mean['matu']) | (E_mean['head']>E_mean['dayofhar'])].index.tolist()\n",
    "    E_mean=E_mean.drop(E_mean.index[remove])\n",
    "    E_mean=E_mean[E_mean.lat.notnull() & E_mean.lon.notnull()][['E!','year']]\n",
    "    df=df.merge(E_mean,how='inner',left_on=['E!','year'],right_on=['E!','year'])\n",
    "    #Estimate heading, deal with site mean\n",
    "    #1. A pre-estimated heading day = 56% * harvesting day if there is no reported heading day\n",
    "    #2. Fit a predition model with doy, \n",
    "    #Computing pre-estimated heading tavg\n",
    "    #Read data with modelling phenology.\n",
    "    sim=sim_df[sim_df['nursery']==n]\n",
    "    #Merge the E_mean to df\n",
    "    #df=df.merge(E_mean,how='inner',on=['E!','year'])\n",
    "    #Merge the modelling data to df\n",
    "    df=df.merge(sim[['E!','year','sim_head','sim_anth','sim_matu']],how='left',on=['E!','year'])\n",
    "    #Save df\n",
    "    df.to_csv(in_dir+n+'_yld_phe_loc_clean.csv',index=False)"
   ]
  },
  {
   "cell_type": "code",
   "execution_count": null,
   "metadata": {},
   "outputs": [],
   "source": []
  },
  {
   "cell_type": "code",
   "execution_count": null,
   "metadata": {},
   "outputs": [],
   "source": []
  },
  {
   "cell_type": "code",
   "execution_count": null,
   "metadata": {},
   "outputs": [],
   "source": []
  },
  {
   "cell_type": "code",
   "execution_count": 496,
   "metadata": {},
   "outputs": [],
   "source": [
    "#Step 2: Estimate the climate for sea, veg, rep, gif\n",
    "#################################Function to generate climate variables#################################################\n",
    "#Return out is a list with 15 elements\n",
    "#15 rows: Tmax, Tmin, Tavg, TDR, Pre, Rad, Vpd, Hud, GDD0, GDD8, EDD26, EDD28, EDD30, EDD32, EDD34, EDD36, EDD38, EDD40.\n",
    "#35 columns: year from 1985 to 2017, plus linear slope and P value \n",
    "#veg: sow - 300 GDD before heading\n",
    "#rep: 200 GDD before heading to 100 GDD after heading\n",
    "#gfi: 100 GDD after heading to matu\n",
    "#0:'sea',1:'veg',2:'rep',3:'gfi',4:'bhe',5:'ahe'\n",
    "def weat_result(file,ye,sow,head,anth,matu):\n",
    "    pd.set_option('mode.chained_assignment', None)\n",
    "    out=[None]*32 #18 Climatic indices by 35 year plut slope and sig \n",
    "    if os.path.isfile(file):\n",
    "        df_we=pd.read_csv(file)\n",
    "        #df_we['Tavg']=round((df_we['Tmin_degC']+df_we['Tmax_degC'])/2,1)\n",
    "        df_we['Tavg']=round((df_we['Tmin']+df_we['Tmax'])/2,1)\n",
    "        ye=int(ye)\n",
    "        sow=int(sow) \n",
    "        matu=int(matu)\n",
    "        sow1=int(str(pd.to_datetime(str(ye)+'-1-1')+timedelta(days=sow))[:10].replace('-',''))  #Sowdate\n",
    "        matu1=int(str(pd.to_datetime(str(ye)+'-1-1')+timedelta(days=(sow+matu)))[:10].replace('-','')) #Matudate\n",
    "        \n",
    "        \n",
    "        #Identify the heading date\n",
    "        if str(head)!='nan':\n",
    "            head1=int(str(pd.to_datetime(str(ye)+'-1-1')+timedelta(days=(sow+int(head))))[:10].replace('-','')) \n",
    "        elif str(anth)!='nan':\n",
    "            anth1=int(str(pd.to_datetime(str(ye)+'-1-1')+timedelta(days=(sow+int(anth))))[:10].replace('-',''))\n",
    "            gdd=0\n",
    "            i=0\n",
    "            while gdd<80:   #80 GDD before the anthesis is the heading\n",
    "                i=i+1\n",
    "                we_index=df_we[df_we['Date']==anth1].index\n",
    "                t=float(df_we.loc[we_index-i,'Tavg']) if df_we.loc[we_index-i,'Tavg'].values>0 else 0\n",
    "                gdd=gdd+t\n",
    "            head1=int(df_we.loc[we_index-i,'Date'])\n",
    "        else:\n",
    "            head1='nan'\n",
    "        \n",
    "        #Identify the 300GDD before and 100 GDD after heading date\n",
    "        if str(head1)!='nan': #anth-80=head\n",
    "            gdd=0\n",
    "            i=0\n",
    "            while gdd<300:\n",
    "                i=i+1\n",
    "                we_index=df_we[df_we['Date']==head1].index\n",
    "                t=float(df_we.loc[we_index-i,'Tavg']) if df_we.loc[we_index-i,'Tavg'].values>0 else 0\n",
    "                gdd=gdd+t\n",
    "            head_b300=int(df_we.loc[we_index-i,'Date'])\n",
    "            gdd=0\n",
    "            i=0\n",
    "            while gdd<100:\n",
    "                i=i+1\n",
    "                we_index=df_we[df_we['Date']==head1].index\n",
    "                t=float(df_we.loc[we_index+i,'Tavg']) if df_we.loc[we_index+i,'Tavg'].values>0 else 0\n",
    "                gdd=gdd+t\n",
    "            head_a100=int(df_we.loc[we_index-i,'Date'])\n",
    "        else:\n",
    "            head_b300,head_a100=['nan','nan']\n",
    "\n",
    "        period_s=[sow1,sow1,head_b300,head_a100]\n",
    "        period_e=[matu1,head_b300,head_a100,matu1]\n",
    "        out=[]\n",
    "        for period in range(4):\n",
    "            if (str(period_s[period])!='nan')&(str(period_e[period])!='nan'):\n",
    "                df_t=df_we[(df_we['Date']>=period_s[period]) & (df_we['Date']<=period_e[period])]\n",
    "                #ARC5\n",
    "                #tmax=round(df_t['Tmax_degC'].mean(),1)\n",
    "                #tmin=round(df_t['Tmin_degC'].mean(),1)\n",
    "                #tavg=round(df_t['Tavg'].mean(),1)\n",
    "                #tdr=round((df_t['Tmax_degC']-df_t['Tmin_degC']).mean(),1)\n",
    "                #pre=round(df_t['Prec_mm_day'].sum(),1)\n",
    "                #rad=round(df_t['Rad_Wm2'].mean()*0.0036,1)\n",
    "                #vpd=round(df_t['VPD_hPa'].mean(),1)\n",
    "                #hud=round(df_t['RH_percentage'].mean(),1)\n",
    "                #Meteblue\n",
    "                tmax=round(df_t['Tmax'].mean(),1)\n",
    "                tmin=round(df_t['Tmin'].mean(),1)\n",
    "                tavg=round(df_t['Tavg'].mean(),1)\n",
    "                tdr=round((df_t['Tmax']-df_t['Tmin']).mean(),1)\n",
    "                pre=round(df_t['Prec'].sum(),1)\n",
    "                rad=round(df_t['Rad'].mean()*0.0036,1)\n",
    "                vpd=round(df_t['VPD'].mean(),1)\n",
    "                hud=round(df_t['Rh'].mean(),1)\n",
    "                out=out+[tmax,tmin,tavg,tdr,pre,rad,vpd,hud]\n",
    "            else:\n",
    "                out=out+[None]*8\n",
    "    return out"
   ]
  },
  {
   "cell_type": "code",
   "execution_count": 505,
   "metadata": {},
   "outputs": [],
   "source": [
    "#NoCHECKed lines, lines except checked lines that have complete records - sow, flower and maturity\n",
    "nursery=['ESWYT','IDYN','HTWYT','SAWYT']\n",
    "period=['sea','veg','rep','gfi'] #season, vergation, reproduction, grailfilling, beforeheading, afterheading\n",
    "for i in range(1,4):  #Nursery\n",
    "    nurse=nursery[i]\n",
    "    df1=pd.read_csv(in_dir+nurse+'_yld_phe_loc_clean.csv',low_memory=False)\n",
    "    #The file it will be appended\n",
    "    #df0_file=in_dir+nurse+'_ALL_LINES_clean_ARC'+period[p]+'.csv'\n",
    "    df1['matu1']=[df1.loc[x,['matu','matu_mean','sim_matu','dayofhar']].dropna().tolist()[0] if len(df1.loc[x,['matu','matu_mean','sim_matu','dayofhar']].dropna().tolist())>0 else np.nan for x in df1.index]                           \n",
    "    df1['head1']=[df1.loc[x,['head','head_mean','sim_head']].dropna().tolist()[0] if len(df1.loc[x,['head','head_mean','sim_head']].dropna().tolist())>0 else np.nan for x in df1.index]\n",
    "    #ARC5\n",
    "    #df1=df1[((df1.yearofsow+((df1.dayofsow+df1.matu1)//365))*1000+(df1.dayofsow+df1.matu1)%365<=2019365) & (df1.yearofsow*1000+df1.dayofsow>=1979001)]\n",
    "    #METE\n",
    "    df1=df1[((df1.yearofsow+((df1.dayofsow+df1.matu1)//365))*1000+(df1.dayofsow+df1.matu1)%365<=2018365) & (df1.yearofsow*1000+df1.dayofsow>=1985001)]\n",
    "    if (i==0):\n",
    "        df1['r_p']='r'\n",
    "    else:\n",
    "        df1['r_p']=['p' if (np.isnan(df1['head'][x])&np.isnan(df1.anth[x])) else 'r' for x in df1.index]\n",
    "    #only deal with records with reported sowing and matu/harv\n",
    "    df1=df1[df1.dayofsow.notnull()&df1.matu1.notnull()]\n",
    "    #df1=df1[(df1[pe_e[p]].astype('float')>1)&(df1[pe_e[p]].astype('float')<300)]\n",
    "    #df1['nursery']=nurse\n",
    "    columns_name=['tmax','tmin','tavg','tdr','pre','rad','vpd','hud']\n",
    "    columns_name=[x+'_'+p for p in period for x in columns_name ]\n",
    "    df2=pd.DataFrame(columns=columns_name)\n",
    "    for id in df1.index:\n",
    "        lat,lon,ye,sow,head,anth,matu=df1.loc[id,['lat','lon','yearofsow','dayofsow','head1','anth','matu1']]\n",
    "        #file,ye,sow,flow_s,flow_e,matu\n",
    "        file=weat_dir+cloest_wea(lat,lon)+'.csv'\n",
    "        df2.loc[id]=weat_result(file,int(ye),sow,head,anth,matu)\n",
    "    df1=pd.concat([df1,df2],axis=1)\n",
    "    #df=df1 if i==0 else pd.concat([df,df1],axis=0)\n",
    "    #with open(df0_file,'a') as f:\n",
    "    #    df1.to_csv(f,header=False)\n",
    "    df1.to_csv(in_dir+nurse+'_ALL_LINES_clean_METE.csv',index=False)"
   ]
  },
  {
   "cell_type": "code",
   "execution_count": 504,
   "metadata": {},
   "outputs": [
    {
     "data": {
      "text/plain": [
       "'46.33_-62.81'"
      ]
     },
     "execution_count": 504,
     "metadata": {},
     "output_type": "execute_result"
    }
   ],
   "source": [
    "cloest_wea(lat,lon)"
   ]
  },
  {
   "cell_type": "code",
   "execution_count": 493,
   "metadata": {},
   "outputs": [],
   "source": []
  },
  {
   "cell_type": "code",
   "execution_count": null,
   "metadata": {},
   "outputs": [],
   "source": []
  },
  {
   "cell_type": "code",
   "execution_count": null,
   "metadata": {},
   "outputs": [],
   "source": []
  },
  {
   "cell_type": "code",
   "execution_count": null,
   "metadata": {},
   "outputs": [],
   "source": []
  },
  {
   "cell_type": "code",
   "execution_count": null,
   "metadata": {},
   "outputs": [],
   "source": []
  },
  {
   "cell_type": "code",
   "execution_count": null,
   "metadata": {},
   "outputs": [],
   "source": []
  },
  {
   "cell_type": "code",
   "execution_count": null,
   "metadata": {},
   "outputs": [],
   "source": []
  },
  {
   "cell_type": "code",
   "execution_count": null,
   "metadata": {},
   "outputs": [],
   "source": []
  },
  {
   "cell_type": "code",
   "execution_count": 324,
   "metadata": {
    "collapsed": true
   },
   "outputs": [],
   "source": [
    "#Estimate linear regress parameters: slope, intercept, rvalue, pvalue, stderr\n",
    "def LR(row):\n",
    "    #x = np.array(df.iloc[0,1:].dropna().index.values.tolist())\n",
    "    x=np.array(row[1:].dropna().index.values.tolist())\n",
    "    #y = np.array(df.iloc[0,1:].dropna().values.tolist())\n",
    "    y=np.array(row[1:].dropna().values)\n",
    "    if len(x)>1:\n",
    "        t = stats.linregress(x,y)\n",
    "    else:\n",
    "        t = ['NaN','NaN','NaN','NaN']\n",
    "    return t"
   ]
  },
  {
   "cell_type": "code",
   "execution_count": null,
   "metadata": {},
   "outputs": [],
   "source": []
  },
  {
   "cell_type": "code",
   "execution_count": null,
   "metadata": {
    "collapsed": true
   },
   "outputs": [],
   "source": []
  },
  {
   "cell_type": "code",
   "execution_count": 390,
   "metadata": {},
   "outputs": [
    {
     "name": "stderr",
     "output_type": "stream",
     "text": [
      "D:\\ProgramData\\Anaconda3\\lib\\site-packages\\ipykernel_launcher.py:11: FutureWarning: convert_objects is deprecated.  To re-infer data dtypes for object columns, use Series.infer_objects()\n",
      "For all other conversions use the data-type specific converters pd.to_datetime, pd.to_timedelta and pd.to_numeric.\n",
      "  # This is added back by InteractiveShellApp.init_path()\n",
      "D:\\ProgramData\\Anaconda3\\lib\\site-packages\\ipykernel_launcher.py:23: FutureWarning: convert_objects is deprecated.  To re-infer data dtypes for object columns, use Series.infer_objects()\n",
      "For all other conversions use the data-type specific converters pd.to_datetime, pd.to_timedelta and pd.to_numeric.\n"
     ]
    }
   ],
   "source": [
    "#Location File\n",
    "default_dir=\"E:\\\\Dropbox (RSG)\\\\Works\\\\CurrentProcessing\\\\Wheat_Phenotypic\\\\1_Cross_Over\\\\1_Data\\\\\"\n",
    "loc=output_dir+nursery[0]+\"_loc.csv\"\n",
    "df=pd.read_csv(loc)[['loc','country','lat','lon','alt']]\n",
    "df.drop_duplicates(keep='first',inplace=True)\n",
    "\n",
    "#LOCAL CHECK\n",
    "df1=pd.read_csv(output_dir+nursery[0]+'_yld.csv')\n",
    "df1=df1[df1['gen']=='LOCAL CHECK']\n",
    "df1=df1.dropna()\n",
    "df1['yld']=df1['yld'].convert_objects(convert_numeric=True)\n",
    "df1=df1.pivot_table('yld',index='loc',columns='year',aggfunc='mean').reset_index()\n",
    "#df.to_csv(output_dir+nursery[0]+'yld_loc.csv')\n",
    "stat=df1.apply(lambda x: LR(x),axis=1)\n",
    "df1['slope_LC']=[x[0] for x in stat] \n",
    "df1['sig_LC']=[x[3] for x in stat]\n",
    "df=df.merge(df1[['loc','slope_LC','sig_LC']],how='outer')\n",
    "\n",
    "#Mediam expect LOCAL CHECK\n",
    "df1=pd.read_csv(output_dir+nursery[0]+'_yld.csv')\n",
    "df1=df1[df1['gen']!='LOCAL CHECK']\n",
    "df1=df1.dropna()\n",
    "df1['yld']=df1['yld'].convert_objects(convert_numeric=True)\n",
    "df1=df1.pivot_table('yld',index='loc',columns='year',aggfunc='median').reset_index()\n",
    "#df.to_csv(output_dir+nursery[0]+'yld_loc.csv')\n",
    "stat=df1.apply(lambda x: LR(x),axis=1)\n",
    "df1['slope_ME']=[x[0] for x in stat] \n",
    "df1['sig_ME']=[x[3] for x in stat]\n",
    "df=df.merge(df1[['loc','slope_ME','sig_ME']],how='outer')\n"
   ]
  },
  {
   "cell_type": "code",
   "execution_count": null,
   "metadata": {},
   "outputs": [],
   "source": []
  },
  {
   "cell_type": "markdown",
   "metadata": {},
   "source": [
    "slope=df.apply(lambda x: np.polyfit(range(1979,2016),x,0)[0])"
   ]
  },
  {
   "cell_type": "code",
   "execution_count": 374,
   "metadata": {},
   "outputs": [
    {
     "data": {
      "text/plain": [
       "[<matplotlib.lines.Line2D at 0x229384fa630>]"
      ]
     },
     "execution_count": 374,
     "metadata": {},
     "output_type": "execute_result"
    },
    {
     "data": {
      "image/png": "[encoded data removed]",
      "text/plain": [
       "<Figure size 432x288 with 1 Axes>"
      ]
     },
     "metadata": {},
     "output_type": "display_data"
    }
   ],
   "source": [
    "y=df['slope_LC']\n",
    "y1=df['slope_ME']\n",
    "x=df['lat']\n",
    "plt.plot(x,y,'or')\n",
    "plt.plot(x,y1,'og')"
   ]
  },
  {
   "cell_type": "code",
   "execution_count": null,
   "metadata": {
    "collapsed": true
   },
   "outputs": [],
   "source": []
  },
  {
   "cell_type": "code",
   "execution_count": null,
   "metadata": {},
   "outputs": [],
   "source": []
  },
  {
   "cell_type": "code",
   "execution_count": 12,
   "metadata": {
    "collapsed": true
   },
   "outputs": [],
   "source": []
  },
  {
   "cell_type": "code",
   "execution_count": 13,
   "metadata": {},
   "outputs": [
    {
     "data": {
      "text/plain": [
       "<matplotlib.axes._subplots.AxesSubplot at 0x22e96849940>"
      ]
     },
     "execution_count": 13,
     "metadata": {},
     "output_type": "execute_result"
    },
    {
     "data": {
      "image/png": "[encoded data removed]",
      "text/plain": [
       "<Figure size 432x288 with 1 Axes>"
      ]
     },
     "metadata": {},
     "output_type": "display_data"
    }
   ],
   "source": []
  },
  {
   "cell_type": "code",
   "execution_count": null,
   "metadata": {},
   "outputs": [],
   "source": []
  },
  {
   "cell_type": "code",
   "execution_count": null,
   "metadata": {},
   "outputs": [],
   "source": []
  },
  {
   "cell_type": "code",
   "execution_count": 179,
   "metadata": {
    "collapsed": true
   },
   "outputs": [],
   "source": []
  },
  {
   "cell_type": "code",
   "execution_count": null,
   "metadata": {},
   "outputs": [],
   "source": []
  },
  {
   "cell_type": "code",
   "execution_count": null,
   "metadata": {},
   "outputs": [],
   "source": []
  },
  {
   "cell_type": "code",
   "execution_count": 68,
   "metadata": {},
   "outputs": [
    {
     "data": {
      "text/html": [
       "<div>\n",
       "<style scoped>\n",
       "    .dataframe tbody tr th:only-of-type {\n",
       "        vertical-align: middle;\n",
       "    }\n",
       "\n",
       "    .dataframe tbody tr th {\n",
       "        vertical-align: top;\n",
       "    }\n",
       "\n",
       "    .dataframe thead th {\n",
       "        text-align: right;\n",
       "    }\n",
       "</style>\n",
       "<table border=\"1\" class=\"dataframe\">\n",
       "  <thead>\n",
       "    <tr style=\"text-align: right;\">\n",
       "      <th></th>\n",
       "      <th>occ</th>\n",
       "      <th>loc</th>\n",
       "      <th>year</th>\n",
       "      <th>sid</th>\n",
       "      <th>gen</th>\n",
       "      <th>yld</th>\n",
       "    </tr>\n",
       "  </thead>\n",
       "  <tbody>\n",
       "    <tr>\n",
       "      <th>0</th>\n",
       "      <td>1</td>\n",
       "      <td>12302</td>\n",
       "      <td>1979</td>\n",
       "      <td>9</td>\n",
       "      <td>VULTURE</td>\n",
       "      <td>2.467</td>\n",
       "    </tr>\n",
       "    <tr>\n",
       "      <th>1</th>\n",
       "      <td>1</td>\n",
       "      <td>12302</td>\n",
       "      <td>1979</td>\n",
       "      <td>113</td>\n",
       "      <td>TOWHEE</td>\n",
       "      <td>3.406</td>\n",
       "    </tr>\n",
       "    <tr>\n",
       "      <th>2</th>\n",
       "      <td>1</td>\n",
       "      <td>12302</td>\n",
       "      <td>1979</td>\n",
       "      <td>9</td>\n",
       "      <td>NACOZARI F 76</td>\n",
       "      <td>3.361</td>\n",
       "    </tr>\n",
       "    <tr>\n",
       "      <th>3</th>\n",
       "      <td>1</td>\n",
       "      <td>12302</td>\n",
       "      <td>1979</td>\n",
       "      <td>10</td>\n",
       "      <td>VEERY #10</td>\n",
       "      <td>3.117</td>\n",
       "    </tr>\n",
       "    <tr>\n",
       "      <th>4</th>\n",
       "      <td>1</td>\n",
       "      <td>12302</td>\n",
       "      <td>1979</td>\n",
       "      <td>16</td>\n",
       "      <td>PEWEE</td>\n",
       "      <td>3.4</td>\n",
       "    </tr>\n",
       "  </tbody>\n",
       "</table>\n",
       "</div>"
      ],
      "text/plain": [
       "   occ    loc  year  sid            gen    yld\n",
       "0    1  12302  1979    9        VULTURE  2.467\n",
       "1    1  12302  1979  113         TOWHEE  3.406\n",
       "2    1  12302  1979    9  NACOZARI F 76  3.361\n",
       "3    1  12302  1979   10      VEERY #10  3.117\n",
       "4    1  12302  1979   16          PEWEE    3.4"
      ]
     },
     "execution_count": 68,
     "metadata": {},
     "output_type": "execute_result"
    }
   ],
   "source": [
    "yld.head()"
   ]
  },
  {
   "cell_type": "code",
   "execution_count": null,
   "metadata": {},
   "outputs": [],
   "source": []
  },
  {
   "cell_type": "code",
   "execution_count": 340,
   "metadata": {},
   "outputs": [],
   "source": [
    "#Check which sites are out of range?\n",
    "n='ESWYT'\n",
    "base_dir=\"E:\\\\Dropbox (RSG)\\\\Works\\\\CurrentProcessing\\\\Wheat_Phenotypic\\\\1.0_Cross_Over\\\\\"\n",
    "yld=pd.read_csv(base_dir+'1_Data/'+n+'_yld.csv')\n",
    "#yld=yld.groupby(['year'])\n",
    "yld=yld[['loc','year','yld']].replace(r'^\\s+$', np.nan, regex=True)\n",
    "yld=yld.dropna()\n",
    "yld.loc[:,'yld']=yld['yld'].astype('float')\n",
    "yld=yld.groupby(['loc','year']).mean()\n",
    "loc=yld.groupby('loc').count().reset_index()\n",
    "loc=loc[loc.yld>=1]['loc'].tolist()"
   ]
  },
  {
   "cell_type": "code",
   "execution_count": 341,
   "metadata": {},
   "outputs": [],
   "source": [
    "Site1=pd.read_csv(data_out+'modeled_site_mean_yld.csv')\n",
    "Site1=Site1[Site1['nursery']==n]\n",
    "Site1=Site1[Site1['loc'].isin(loc).tolist()].dropna()\n",
    "Site1=Site1[(Site1.meanyld<=Site1.meanyld.mean()+np.std(Site1.meanyld))&(Site1.meanyld>=Site1.meanyld.mean()-np.std(Site1.meanyld))].dropna()"
   ]
  },
  {
   "cell_type": "code",
   "execution_count": null,
   "metadata": {},
   "outputs": [],
   "source": []
  },
  {
   "cell_type": "code",
   "execution_count": null,
   "metadata": {},
   "outputs": [],
   "source": []
  },
  {
   "cell_type": "code",
   "execution_count": null,
   "metadata": {},
   "outputs": [],
   "source": [
    "a=0.1\n",
    "per=['sea','veg','rep','gfi']\n",
    "env_cli=['tmax','tmin','pre','rad','vpd','hud']\n",
    "Wea='ARC5'\n",
    "wea_dir=data_out\n",
    "\n",
    "data_out=\"E:\\\\Dropbox (RSG)\\\\Works\\\\CurrentProcessing\\\\Wheat_Phenotypic\\\\1.0_Cross_Over\\\\2_Results\\\\NP_data\\\\\"\n",
    "fit_ori=pd.read_csv(data_out+\"NoEj_\"+str(a)+'_fit_quad_tmatmiprravphu_vegrefgif_'+Wea+'_withGi.csv')\n",
    "fit_ori=fit_ori[fit_ori['G!']!='1_LOCAL CHECK']\n",
    "\n",
    "Effect=['FixEj','VarEj']\n",
    "Sites=['All','Gt2','Gt5','Gt10']\n",
    "Sites_Value=[1,2,5,10]\n",
    "Outliner=['SD','2SD','Q99','Q95']\n",
    "out=pd.DataFrame(columns=['Effect','Site','Outline','nursery','year','cultivar','nline','nsite','cross-over'])\n",
    "\n",
    "Site_ori=pd.read_csv(data_out+'loc_season_number.csv')\n",
    "Site1_ori=pd.read_csv(data_out+'modeled_site_mean_yld.csv')\n",
    "\n",
    "for n in nursery:\n",
    "    fit_n=fit_ori[fit_ori['nursery']==n].iloc[:,3:]\n",
    "    line_group=int(len(fit_n)/50)\n",
    "    Site=Site_ori[Site_ori.nursery==n]\n",
    "    Site1=Site1_ori[Site1_ori.nursery==n]\n",
    "    for yr in range(1980,2019):\n",
    "        name=[]\n",
    "        for pe in per[1:]:\n",
    "            for x in env_cli:\n",
    "                name.append(x+'_'+pe+'SQ')\n",
    "                name.append(x+'_'+pe)\n",
    "        cli=pd.read_csv(wea_dir+'Climate/'+Wea+'_cli4all_clean_'+n+'_'+per[1]+'_'+str(yr)+'.csv')\n",
    "        #cli=pd.read_csv(wea_dir+'Climate/cli4all_clean_'+n+'_'+per[1]+'_'+str(yr)+'.csv')\n",
    "        cli=cli[['loc']+env_cli]\n",
    "        cli.columns=['loc']+[x+'_'+per[1] for x in cli.columns[1:]]\n",
    "        for s in per[2:]:\n",
    "            temp=pd.read_csv(wea_dir+'Climate/'+Wea+'_cli4all_clean_'+n+'_'+s+'_'+str(yr)+'.csv')\n",
    "            #temp=pd.read_csv(wea_dir+'Climate/cli4all_clean_'+n+'_'+s+'_'+str(yr)+'.csv')\n",
    "            temp=temp[env_cli]\n",
    "            temp.columns=[x+'_'+s for x in temp.columns]\n",
    "            cli=pd.concat([cli,temp],axis=1)\n",
    "        for col in cli.columns[1:]: cli[col+'SQ']=cli[col]**2\n",
    "        cli=cli[['loc']+name]\n",
    "        for g in range(line_group):\n",
    "            fit_g=fit_n.iloc[(g*50):((g+1)*50),:]\n",
    "            for E in range(2):#Ej\n",
    "                for S in range(4): #Site\n",
    "                    for O in range(4): #Outliner\n",
    "                        loc=Site[Site['seasonn']>=Sites_Value[S]]\n",
    "                        loc1=Site1[Site1['loc'].isin(loc['loc'].tolist())]\n",
    "                        if O==0:\n",
    "                            loc1=loc1[(loc1.meanyld<(loc1.meanyld.mean()+np.std(loc1.meanyld)))&(loc1.meanyld>(loc1.meanyld.mean()-np.std(loc1.meanyld)))].dropna()\n",
    "                        if O==1:\n",
    "                            loc1=loc1[(loc1.meanyld<(loc1.meanyld.mean()+2*np.std(loc1.meanyld)))&(loc1.meanyld>(loc1.meanyld.mean()-2*np.std(loc1.meanyld)))].dropna()\n",
    "                        if O==2:\n",
    "                            loc1=loc1[(loc1.meanyld>loc1.meanyld.quantile(q=0.01))&(loc1.meanyld<loc1.meanyld.quantile(q=0.99))].dropna()\n",
    "                        if O==3:\n",
    "                            loc1=loc1[(loc1.meanyld>loc1.meanyld.quantile(q=0.05))&(loc1.meanyld<loc1.meanyld.quantile(q=0.95))].dropna()                    \n",
    "                        #cli=cli.merge(Ej_n,on='loc',how='left')\n",
    "                        #cli=cli[cli['loc'].isin(loc)].dropna()\n",
    "                        cli=cli[cli['loc'].isin(loc1['loc'].tolist())].dropna()\n",
    "                        loc_again=loc1[loc1['loc'].isin(cli['loc'].tolist())]\n",
    "\n",
    "                        #yld.pivot_table(index='loc',columns='year',aggfunc='count').reset_index()\n",
    "                        A=np.asarray(fit_g.iloc[:,1:37]).dot(np.asarray(cli.loc[:,fit_g.columns[1:37]]).T)\n",
    "                        A=pd.DataFrame(A)\n",
    "                        for j in range(A.shape[1]): A.iloc[:,j]=A.iloc[:,j]+fit_g.iloc[:,0].values+fit_g.loc[:,'Gi'].values#+u\n",
    "\n",
    "                        fit=[]\n",
    "                        for row in range(A.shape[0]):\n",
    "                            temp=pd.DataFrame()\n",
    "                            temp['yld']=A.iloc[row,:]\n",
    "                            if E==0: #Fix E\n",
    "                                temp['mean']=loc_again.meanyld.tolist()#A.mean(axis=0) #\n",
    "                            else:\n",
    "                                temp['mean']=A.mean(axis=0)\n",
    "                            temp=temp.dropna()\n",
    "                            X_opt = np.asarray(temp['mean'])\n",
    "                            X_opt=sm.add_constant(X_opt)\n",
    "                            y=np.asarray(temp['yld'])\n",
    "                            OLS = sm.OLS(endog = y, exog = X_opt).fit()\n",
    "                            fit=fit+[OLS.params.tolist()]\n",
    "                            #sns.regplot(temp['mean'],temp['yld'],ci=0)\n",
    "                        cross=pd.DataFrame()\n",
    "                        gen=np.asarray([[i,j] for i in range(len(fit)-1) for j in range(i+1,len(fit))])\n",
    "                        cross['a1']=[fit[i][1] for i in gen[:,0]] \n",
    "                        cross['b1']=[fit[i][0] for i in gen[:,0]]\n",
    "                        cross['a2']=[fit[i][1] for i in gen[:,1]] \n",
    "                        cross['b2']=[fit[i][0] for i in gen[:,1]]\n",
    "                        cross['s']=(cross['b2']-cross['b1'])/(cross['a1']-cross['a2'])\n",
    "                        #cross['cross']=[1 if (x>A.mean(axis=0).min())&(x<A.mean(axis=0).max()) else 0 for x in cross['s']]\n",
    "                        if E==0:\n",
    "                            cross['cross']=[1 if (x>Site_again.meanyld.min())&(x<Site_again.meanyld.max()) else 0 for x in cross['s']]\n",
    "                        else:\n",
    "                            cross['cross']=[1 if (x>A.mean(axis=0).min())&(x<A.mean(axis=0).max()) else 0 for x in cross['s']]\n",
    "                        cross_n=cross['cross'].sum()\n",
    "                        out.loc[len(out)]=[Effect[E],Sites[S],Outliner[O],n,yr,g+1,fit_g.shape[0],cli.shape[0],cross_n]\n",
    "\n",
    "#out=pd.DataFrame(columns=['Eeffect','Site','Outline','nursery','year','cultivar','nline','nsite','cross-over'])\n",
    "                        #Plot and estimate change\n",
    "Result=pd.DataFrame(columns=['Ej','Site','Outliner','nursery','change'])\n",
    "for E in out.Eeffect.unique():\n",
    "    for S in out.Site.unique():\n",
    "        for O in out.Outline.unique():\n",
    "            for n in nursery():\n",
    "                df=out[out.Eeffect==E & out.Site==S & out.Outline==O & out.nursery==n][['year','nline','cross-over']].apply(pd.to_numeric)\n",
    "                df['cross']=100*df['cross-over']/(df['nline']*(df['nline']-1)/2)\n",
    "                df=df.groupby('year').mean().reset_index()\n",
    "                X_opt=np.asarray(df['year'])\n",
    "                X_opt=sm.add_constant(X_opt)\n",
    "                y=np.asarray(df['cross'].astype('float'))\n",
    "                OLS = sm.OLS(endog = y, exog = X_opt).fit()\n",
    "                bs=OLS.params[0]+OLS.params[1]*df['year'].min()\n",
    "                Result.loc[len(Result)]=[Effect[E],Sites[S],Outliner[O],n,OLS.params[1]*39*100/bs]"
   ]
  },
  {
   "cell_type": "code",
   "execution_count": null,
   "metadata": {},
   "outputs": [],
   "source": []
  },
  {
   "cell_type": "code",
   "execution_count": null,
   "metadata": {},
   "outputs": [],
   "source": []
  },
  {
   "cell_type": "code",
   "execution_count": 347,
   "metadata": {},
   "outputs": [
    {
     "data": {
      "text/plain": [
       "-1.1464389245915663"
      ]
     },
     "execution_count": 347,
     "metadata": {},
     "output_type": "execute_result"
    }
   ],
   "source": [
    "OLS.params[1]*39*100/bs"
   ]
  },
  {
   "cell_type": "code",
   "execution_count": 311,
   "metadata": {},
   "outputs": [
    {
     "data": {
      "text/plain": [
       "<matplotlib.axes._subplots.AxesSubplot at 0x15b986c3208>"
      ]
     },
     "execution_count": 311,
     "metadata": {},
     "output_type": "execute_result"
    },
    {
     "data": {
      "image/png": "[encoded data removed]",
      "text/plain": [
       "<Figure size 576x432 with 1 Axes>"
      ]
     },
     "metadata": {},
     "output_type": "display_data"
    }
   ],
   "source": [
    "#sns.regplot(out['year'],out['cross-over'])\n",
    "fig, ax=plt.subplots(nrows=1,ncols=1,figsize=(8,6))\n",
    "df=out[['year','nline','cross-over']].apply(pd.to_numeric)\n",
    "df['cross']=100*df['cross-over']/(df['nline']*(df['nline']-1)/2)\n",
    "df=df.groupby('year').mean().reset_index()\n",
    "X_opt=np.asarray(df['year'].astype('float'))\n",
    "X_opt=sm.add_constant(X_opt)\n",
    "y=np.asarray(df['cross'].astype('float'))\n",
    "OLS = sm.OLS(endog = y, exog = X_opt).fit()\n",
    "bs=OLS.params[0]+OLS.params[1]*df['year'].min()\n",
    "cross=100*(df['cross']-bs)/bs\n",
    "#ax.scatter(out['year'].astype('float'),cross,alpha=0.3,s=28)\n",
    "X=np.asarray(list(range(39)))\n",
    "sns.regplot(X,np.asarray(cross),ax=ax,scatter=True,scatter_kws={\"s\": 10})"
   ]
  },
  {
   "cell_type": "code",
   "execution_count": 124,
   "metadata": {},
   "outputs": [
    {
     "data": {
      "image/png": "[encoded data removed]",
      "text/plain": [
       "<Figure size 576x432 with 1 Axes>"
      ]
     },
     "metadata": {},
     "output_type": "display_data"
    }
   ],
   "source": [
    "fig, ax=plt.subplots(nrows=1,ncols=1,figsize=(8,6))\n",
    "\n",
    "fit=[]\n",
    "for row in range(A.shape[0]):\n",
    "    temp=pd.DataFrame()\n",
    "    temp['yld']=A.iloc[row,:]\n",
    "    temp['mean']=A.mean(axis=0)\n",
    "    temp=temp.dropna()\n",
    "    X_opt = np.asarray(temp['mean'])\n",
    "    X_opt=sm.add_constant(X_opt)\n",
    "    y=np.asarray(temp['yld'])\n",
    "    OLS = sm.OLS(endog = y, exog = X_opt).fit()\n",
    "    fit=fit+[OLS.params.tolist()]\n",
    "    sns.regplot(temp['mean'],temp['yld'],ci=0)\n",
    "cross=pd.DataFrame()\n",
    "gen=np.asarray([[i,j] for i in range(len(fit)-1) for j in range(i+1,len(fit))])\n",
    "cross['a1']=[fit[i][1] for i in gen[:,0]] \n",
    "cross['b1']=[fit[i][0] for i in gen[:,0]]\n",
    "cross['a2']=[fit[i][1] for i in gen[:,1]] \n",
    "cross['b2']=[fit[i][0] for i in gen[:,1]]\n",
    "cross['s']=(cross['b2']-cross['b1'])/(cross['a1']-cross['a2'])\n",
    "#cross['cross']=[1 if (x>=A0.mean(axis=0).min())&(x<=A0.mean(axis=0).max()) else 0 for x in cross['s']]\n",
    "cross['cross']=[1 if (x>A.mean(axis=0).min())&(x<A.mean(axis=0).max()) else 0 for x in cross['s']]\n",
    "cross_n=cross['cross'].sum()"
   ]
  },
  {
   "cell_type": "code",
   "execution_count": 180,
   "metadata": {},
   "outputs": [],
   "source": [
    "def hex_to_RGB(hex):\n",
    "  ''' \"#FFFFFF\" -> [255,255,255] '''\n",
    "  # Pass 16 to the integer function for change of base\n",
    "  return [int(hex[i:i+2], 16) for i in range(1,6,2)]\n",
    "def RGB_to_hex(RGB):\n",
    "  ''' [255,255,255] -> \"#FFFFFF\" '''\n",
    "  # Components need to be integers for hex to make sense\n",
    "  RGB = [int(x) for x in RGB]\n",
    "  return \"#\"+\"\".join([\"0{0:x}\".format(v) if v < 16 else\n",
    "            \"{0:x}\".format(v) for v in RGB])\n",
    "def color_dict(gradient):\n",
    "  ''' Takes in a list of RGB sub-lists and returns dictionary of\n",
    "    colors in RGB and hex form for use in a graphing function\n",
    "    defined later on '''\n",
    "  return {\"hex\":[RGB_to_hex(RGB) for RGB in gradient],\n",
    "      \"r\":[RGB[0] for RGB in gradient],\n",
    "      \"g\":[RGB[1] for RGB in gradient],\n",
    "      \"b\":[RGB[2] for RGB in gradient]}\n",
    "def linear_gradient(start_hex, finish_hex=\"#FFFFFF\", n=10):\n",
    "  ''' returns a gradient list of (n) colors between\n",
    "    two hex colors. start_hex and finish_hex\n",
    "    should be the full six-digit color string,\n",
    "    inlcuding the number sign (\"#FFFFFF\") '''\n",
    "  # Starting and ending colors in RGB form\n",
    "  s = hex_to_RGB(start_hex)\n",
    "  f = hex_to_RGB(finish_hex)\n",
    "  # Initilize a list of the output colors with the starting color\n",
    "  RGB_list = [s]\n",
    "  # Calcuate a color at each evenly spaced value of t from 1 to n\n",
    "  for t in range(1, n):\n",
    "    # Interpolate RGB vector for color at the current value of t\n",
    "    curr_vector = [\n",
    "      int(s[j] + (float(t)/(n-1))*(f[j]-s[j]))\n",
    "      for j in range(3)\n",
    "    ]\n",
    "    # Add it to our list of output colors\n",
    "    RGB_list.append(curr_vector)\n",
    "  return color_dict(RGB_list)\n",
    "def removeOutliers(x, outlierConstant):\n",
    "    a = np.array(x)\n",
    "    upper_quartile = np.percentile(a, 75)\n",
    "    lower_quartile = np.percentile(a, 25)\n",
    "    IQR = (upper_quartile - lower_quartile) * outlierConstant\n",
    "    quartileSet = [lower_quartile - IQR, upper_quartile + IQR]\n",
    "    return quartileSet"
   ]
  },
  {
   "cell_type": "code",
   "execution_count": null,
   "metadata": {},
   "outputs": [],
   "source": []
  },
  {
   "cell_type": "code",
   "execution_count": 190,
   "metadata": {},
   "outputs": [
    {
     "name": "stderr",
     "output_type": "stream",
     "text": [
      "D:\\ProgramData\\Anaconda3\\lib\\site-packages\\ipykernel_launcher.py:18: SettingWithCopyWarning: \n",
      "A value is trying to be set on a copy of a slice from a DataFrame.\n",
      "Try using .loc[row_indexer,col_indexer] = value instead\n",
      "\n",
      "See the caveats in the documentation: http://pandas.pydata.org/pandas-docs/stable/indexing.html#indexing-view-versus-copy\n"
     ]
    },
    {
     "data": {
      "text/plain": [
       "Text(0.5,0,'Cultivar change (line age)')"
      ]
     },
     "execution_count": 190,
     "metadata": {},
     "output_type": "execute_result"
    },
    {
     "data": {
      "image/png": "[encoded data removed]",
      "text/plain": [
       "<Figure size 1152x432 with 2 Axes>"
      ]
     },
     "metadata": {},
     "output_type": "display_data"
    }
   ],
   "source": [
    "#Plotting\n",
    "#Color gradients\n",
    "fittype=['absolute','relative']\n",
    "colors=['#4203c9', '#16acea', '#d71b6b', '#e8d71e']\n",
    "colors_start=['#d3ffbe','#bee8ff','#ffbebe','#ffbeff']\n",
    "colors_end=['#269b00','#004c73','#9b0000','#4c0073']\n",
    "markers=['.','+','x','*']\n",
    "x_cross=[10,38,65,92]\n",
    "rubt1or0 = False\n",
    "\n",
    "#out=pd.read_csv(data_out+'NoEj_'+str(a)+'_prediction_gxe_crossover_clean_'+Wea+'_All.csv')\n",
    "fig, ax=plt.subplots(nrows=1,ncols=2,figsize=(16,6))\n",
    "#df0=pd.read_csv(data_out+\"NoEj_0.1_prediction_gxe_crossover_clean_METE.csv\")\n",
    "out=pd.read_csv(data_out+\"NoEj_0.1_prediction_gxe_crossover_clean_ARC5_SeaGt5.csv\")\n",
    "change=[]\n",
    "for n in range(4):\n",
    "    df0=out[out['nursery']==nursery[n]]\n",
    "    df0['cross']=100*df0['cross-over']/(df0['nline']*(df0['nline']-1)/2)\n",
    "##############################Climate change#########################################################\n",
    "    x=np.asarray(list(range(1,40)))+n*39\n",
    "    #x=np.asarray(list(range(1,34)))+n*33\n",
    "    #X=np.asarray(x).reshape(-1,1)\n",
    "    #x=np.asarray(range(1985,2018))\n",
    "    #\"#ffff00\",\"#0000ff\" #grey \"#F3F0F0\",\"#000000\" #Red blue \"#FF0000\",\"#0000FF\"\n",
    "    color_ramp=linear_gradient(\"#FF0000\",\"#0000FF\",len(out['cultivar'].unique()))['hex']\n",
    "    w=0\n",
    "    for l in df0['cultivar'].unique():\n",
    "        df=df0[df0['cultivar']==l][['year','cross']]\n",
    "        X_opt=np.asarray(x)\n",
    "        X_opt=sm.add_constant(X_opt)\n",
    "        y=np.asarray(df['cross'])\n",
    "        OLS = sm.OLS(endog = y.astype(np.float64), exog = X_opt.astype(np.float64)).fit()\n",
    "        bs=OLS.params[0]+OLS.params[1]*x.min()\n",
    "        cross=100*(df['cross']-bs)/bs\n",
    "        sns.regplot(x.astype('float'),cross,scatter=True,ci=0,scatter_kws={'s':0},\n",
    "                    line_kws={'lw':1,'alpha': 0.3,'color':color_ramp[l-1]},ax=ax[0],truncate=True,robust=rubt1or0)\n",
    "    df=df0[['year','cross']].apply(pd.to_numeric)\n",
    "    df=df.groupby('year')['cross'].mean().reset_index()\n",
    "    X_opt=np.asarray(x)\n",
    "    X_opt=sm.add_constant(X_opt)\n",
    "    y=np.asarray(df['cross'])\n",
    "    OLS = sm.OLS(endog = y.astype(np.float64), exog = X_opt.astype(np.float64)).fit()\n",
    "    bs=OLS.params[0]+OLS.params[1]*x.min()\n",
    "    cross=100*(df['cross']-bs)/bs\n",
    "    #ax[0].scatter(x,cross,c=colors[n],alpha=0.3,s=28)\n",
    "    sns.regplot(x.astype('float'),cross,scatter=True,ax=ax[0],scatter_kws={\"s\": 10},\n",
    "                line_kws={'lw':5},marker='o',color=colors[n],truncate=True,robust=rubt1or0)\n",
    "    change=change+[OLS.params[1]*39*100/bs]\n",
    "    #change_=round(xx.get_lines()[n].get_ydata()[len(xx.get_lines()[n].get_ydata())-1]-xx.get_lines()[n].get_ydata()[n],0)\n",
    "    #ax[0,1].text(x_gxe[n],-66,str(change_)+'%',fontsize=12)\n",
    "#################################################Breeding progress###################################################\n",
    "    if n==0 or n==3:x=np.asarray(df0['cultivar'].unique()+(32-len(df0['cultivar'].unique())))+n*32 #ESWYT\n",
    "    if n==1: x=np.asarray(df0['cultivar'].unique())+n*32\n",
    "    if n==2: x=np.asarray([8,9,10,11,12,13,14,15,16,24,25,26,27,28])+n*32\n",
    "\n",
    "    #X=np.asarray(x).reshape(-1,1)\n",
    "    #x=np.asarray(out['cultivar'].unique()+(27-len(out['cultivar'].unique())))\n",
    "    color_ramp=linear_gradient(\"#FF0000\",\"#0000FF\",len(out['year'].unique()))['hex']\n",
    "    w=0\n",
    "    for l in df0['year'].unique():\n",
    "        df=df0[df0['year']==l][['cultivar','cross']]\n",
    "        X_opt=np.asarray(x)\n",
    "        X_opt=sm.add_constant(X_opt)\n",
    "        y=np.asarray(df['cross'])\n",
    "        OLS = sm.OLS(endog = y.astype(np.float64), exog = X_opt.astype(np.float64)).fit()\n",
    "        bs=OLS.params[0]+OLS.params[1]*x.min()\n",
    "        cross=100*(df['cross']-bs)/bs\n",
    "        sns.regplot(x.astype('float'),cross,scatter=True,ci=0,scatter_kws={'s':0},\n",
    "                    line_kws={'lw':1,'alpha': 0.3,'color':color_ramp[l-1985]},ax=ax[1],truncate=True,robust=rubt1or0)\n",
    "#        w=w+1\n",
    "    df=df0[['cultivar','cross']].apply(pd.to_numeric)\n",
    "    df=df.groupby('cultivar')['cross'].mean().reset_index()   \n",
    "    X_opt=np.asarray(x)\n",
    "    X_opt=sm.add_constant(X_opt)\n",
    "    y=np.asarray(df['cross'])\n",
    "    OLS = sm.OLS(endog = y.astype(np.float64), exog = X_opt.astype(np.float64)).fit()\n",
    "    bs=OLS.params[0]+OLS.params[1]*x.min()\n",
    "    cross=100*(df['cross']-bs)/bs\n",
    "    #ax[1].scatter(x,cross,c=colors[n],alpha=0.3,s=28)\n",
    "    sns.regplot(x.astype('float'),cross,scatter=True,ax=ax[1],scatter_kws={\"s\": 10},\n",
    "                line_kws={'lw':5},marker='o',color=colors[n],truncate=True,robust=rubt1or0)\n",
    "#Text and labels\n",
    "#for col in range(2):\n",
    "#ax[0].set_xlim([0.5,132.5])\n",
    "ax[0].set_xlim([0.5,156.5])\n",
    "ax[0].axvline(39.5,color='black',ls='--')\n",
    "ax[0].axvline(78.5,color='black',ls='--')\n",
    "ax[0].axvline(117.5,color='black',ls='--')\n",
    "#ax[0].set_xticks([])\n",
    "\n",
    "ax[1].set_xlim([0.5,128.5])\n",
    "ax[1].axvline(32.5,color='black',ls='--')\n",
    "ax[1].axvline(64.5,color='black',ls='--')\n",
    "ax[1].axvline(96.5,color='black',ls='--')\n",
    "#ax[1].set_xticks([])\n",
    "\n",
    "#Xlim labels\n",
    "#labels=[5,16,27,38,49,60,71,82,93,104,115,126]\n",
    "#labels_year=[1990,2001,2012,1990,2001,2012,1990,2001,2012,1990,2001,2012]\n",
    "#ax[0].set_xticks(labels)\n",
    "#ax[0].set_xticklabels(labels_year,fontsize=12) #,rotation=270, ha='right')\n",
    "\n",
    "#labels=[5,13,22,32,41,50,59,68,77,86,95,104]\n",
    "#labels_line=[5,13,22,5,13,22,5,13,22,5,13,22]\n",
    "#labels_line=[30,20,10,30,20,10,30,20,10,30,20,10]\n",
    "#ax[1].set_xticks(labels)\n",
    "#ax[1].set_xticklabels(labels_line,fontsize=12)\n",
    "\n",
    "#ax[0].set_ylim([-100,220])\n",
    "#ax[0].text(ax[0].get_xlim()[0]+(ax[0].get_xlim()[1]-ax[0].get_xlim()[0])/40,\n",
    "#           ax[0].get_ylim()[1]-(ax[0].get_ylim()[1]-ax[0].get_ylim()[0])/15,'a',fontsize=20)\n",
    "#ax[0,0].text(1,-65,'$\\it{Total Change =}$')\n",
    "#ax[0,0].text(13,-90,'23%',fontsize=12) #GEI ESWYT\n",
    "#ax[0,0].text(45,-90,'39%$\\mathregular{^{*}}$',fontsize=12) #GEI ESWYT\n",
    "#ax[0,0].text(78,-90,'14%',fontsize=12) #GEI ESWYT\n",
    "#ax[0,0].text(112,-90,'36%',fontsize=12) #GEI ESWYT\n",
    "\n",
    "#ax[0].set_ylim([-10,10])\n",
    "#ax[0].text(ax[0].get_xlim()[0]+(ax[0].get_xlim()[1]-ax[0].get_xlim()[0])/40,\n",
    "#           ax[0].get_ylim()[1]-(ax[0].get_ylim()[1]-ax[0].get_ylim()[0])/15,'a',fontsize=20)\n",
    "#ax[0,1].text(13,-66,'3%',fontsize=12) #GEI CROSS\n",
    "#ax[0,1].text(45,-66,'25%$\\mathregular{^{***}}$',fontsize=12) #GEI CROSS\n",
    "#ax[0,1].text(77,-66,'-18%$\\mathregular{^{*}}$',fontsize=12) #GEI CROSS\n",
    "#ax[0,1].text(113,-66,'7%',fontsize=12) #GEI CROSS\n",
    "\n",
    "#ax[1,0].set_ylim([-100,220])\n",
    "#ax[1,0].text(ax[1,0].get_xlim()[0]+(ax[1,0].get_xlim()[1]-ax[1,0].get_xlim()[0])/37,\n",
    "#           ax[1,0].get_ylim()[1]-(ax[1,0].get_ylim()[1]-ax[1,0].get_ylim()[0])/15,'c',fontsize=20)\n",
    "#ax[1,0].text(10,-90,'-50%',fontsize=12) #GEI ESWYT\n",
    "#ax[1,0].text(38,-90,'207%',fontsize=12) #GEI ESWYT\n",
    "#ax[1,0].text(65,-90,'-98%$\\mathregular{^{**}}$',fontsize=12) #GEI ESWYT\n",
    "#ax[1,0].text(92,-90,'-63%',fontsize=12)\n",
    "\n",
    "#ax[1].set_ylim([-70,70])\n",
    "#ax[1].text(ax[1].get_xlim()[0]+(ax[1].get_xlim()[1]-ax[1].get_xlim()[0])/37,\n",
    "#          ax[1].get_ylim()[1]-(ax[1].get_ylim()[1]-ax[1].get_ylim()[0])/15,'b',fontsize=20)\n",
    "#ax[1].text(10,-66,'9%',fontsize=12) #CROSS ESWYT\n",
    "#ax[1].text(37,-66,'22%$\\mathregular{^{*}}$',fontsize=12) #CROSS ESWYT\n",
    "#ax[1].text(65,-66,'14%',fontsize=12) #CROSS ESWYT\n",
    "#ax[1].text(92,-66,'0%',fontsize=12) #CROSS ESWYT\n",
    "ax[0].set_ylabel(\"Change in crossover number (%)\",fontsize=15)\n",
    "ax[1].set_ylabel(\"Change in crossover number (%)\",fontsize=15)\n",
    "ax[0].set_xlabel(\"Climate change (year)\",fontsize=15)\n",
    "ax[1].set_xlabel(\"Cultivar change (line age)\",fontsize=15)\n",
    "#for n in range(2): \n",
    "#    ax[0,n].text(9,ax[0,n].get_ylim()[1]+(ax[0,n].get_ylim()[1]-ax[0,n].get_ylim()[0])/30,nursery[0],fontsize=15)\n",
    "#    ax[0,n].text(9+33,ax[0,n].get_ylim()[1]+(ax[0,n].get_ylim()[1]-ax[0,n].get_ylim()[0])/30,nursery[1],fontsize=15)\n",
    "#    ax[0,n].text(9+32*2,ax[0,n].get_ylim()[1]+(ax[0,n].get_ylim()[1]-ax[0,n].get_ylim()[0])/30,nursery[2],fontsize=15)\n",
    "#    ax[0,n].text(9+32*3,ax[0,n].get_ylim()[1]+(ax[0,n].get_ylim()[1]-ax[0,n].get_ylim()[0])/30,nursery[3],fontsize=15)\n",
    "#    ax[n,0].set_ylabel(\"Change in Sum of Square of GEI (%)\",fontsize=15)\n",
    "#    ax[n,1].set_ylabel(\"Change in crossover number (%)\",fontsize=15)\n",
    "#    ax[0,n].set_xlabel(\"Climate change (year)\",fontsize=15)\n",
    "#    ax[1,n].set_xlabel(\"Cultivar change (line age)\",fontsize=15)\n"
   ]
  },
  {
   "cell_type": "code",
   "execution_count": 191,
   "metadata": {},
   "outputs": [
    {
     "data": {
      "text/plain": [
       "[4.058328796169964, 13.35792269135328, 1.2830468528661831, -4.410894218674134]"
      ]
     },
     "execution_count": 191,
     "metadata": {},
     "output_type": "execute_result"
    }
   ],
   "source": [
    "change"
   ]
  }
 ],
 "metadata": {
  "kernelspec": {
   "display_name": "Python 3",
   "language": "python",
   "name": "python3"
  },
  "language_info": {
   "codemirror_mode": {
    "name": "ipython",
    "version": 3
   },
   "file_extension": ".py",
   "mimetype": "text/x-python",
   "name": "python",
   "nbconvert_exporter": "python",
   "pygments_lexer": "ipython3",
   "version": "3.6.5"
  }
 },
 "nbformat": 4,
 "nbformat_minor": 2
}
